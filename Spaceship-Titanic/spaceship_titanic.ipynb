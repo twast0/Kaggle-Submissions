{
 "cells": [
  {
   "cell_type": "code",
   "execution_count": null,
   "id": "79b58e40",
   "metadata": {},
   "outputs": [
    {
     "name": "stderr",
     "output_type": "stream",
     "text": [
      "C:\\Users\\Wilde\\AppData\\Local\\Temp\\ipykernel_22948\\1942404488.py:18: FutureWarning: Downcasting object dtype arrays on .fillna, .ffill, .bfill is deprecated and will change in a future version. Call result.infer_objects(copy=False) instead. To opt-in to the future behavior, set `pd.set_option('future.no_silent_downcasting', True)`\n",
      "  full['CryoSleep'] = full['CryoSleep'].fillna(False).astype(int)\n",
      "C:\\Users\\Wilde\\AppData\\Local\\Temp\\ipykernel_22948\\1942404488.py:22: FutureWarning: Downcasting object dtype arrays on .fillna, .ffill, .bfill is deprecated and will change in a future version. Call result.infer_objects(copy=False) instead. To opt-in to the future behavior, set `pd.set_option('future.no_silent_downcasting', True)`\n",
      "  full['VIP'] = full['VIP'].fillna(False).astype(int)\n",
      "c:\\Users\\Wilde\\AppData\\Local\\Programs\\Python\\Python312\\Lib\\site-packages\\xgboost\\training.py:183: UserWarning: [15:51:21] WARNING: C:\\actions-runner\\_work\\xgboost\\xgboost\\src\\learner.cc:738: \n",
      "Parameters: { \"use_label_encoder\" } are not used.\n",
      "\n",
      "  bst.update(dtrain, iteration=i, fobj=obj)\n"
     ]
    }
   ],
   "source": [
    "import pandas as pd\n",
    "import numpy as np\n",
    "from xgboost import XGBClassifier\n",
    "\n",
    "# Load data\n",
    "train = pd.read_csv('train.csv')\n",
    "test = pd.read_csv('test.csv')\n",
    "\n",
    "# Target variable\n",
    "y = train['Transported'].astype(int)  # True/False to 1/0\n",
    "\n",
    "# Combine train and test for consistent preprocessing\n",
    "test['Transported'] = np.nan\n",
    "full = pd.concat([train, test], sort=False)\n",
    "\n",
    "# Fill missing values and encode categorical features\n",
    "full['HomePlanet'] = full['HomePlanet'].fillna('Unknown')\n",
    "full['CryoSleep'] = full['CryoSleep'].fillna(False).astype(int)\n",
    "full['Cabin'] = full['Cabin'].fillna('Unknown/Unknown/Unknown')\n",
    "full['Destination'] = full['Destination'].fillna('Unknown')\n",
    "full['Age'] = full['Age'].fillna(full['Age'].median())\n",
    "full['VIP'] = full['VIP'].fillna(False).astype(int)\n",
    "for col in ['RoomService', 'FoodCourt', 'ShoppingMall', 'Spa', 'VRDeck']:\n",
    "    full[col] = full[col].fillna(0)\n",
    "\n",
    "# Split Cabin into 3 features\n",
    "full[['CabinDeck', 'CabinNum', 'CabinSide']] = full['Cabin'].str.split('/', expand=True)\n",
    "full['CabinDeck'] = full['CabinDeck'].astype('category').cat.codes\n",
    "full['CabinSide'] = full['CabinSide'].astype('category').cat.codes\n",
    "\n",
    "# Encode categorical variables\n",
    "for col in ['HomePlanet', 'Destination']:\n",
    "    full[col] = full[col].astype('category').cat.codes\n",
    "\n",
    "# Feature list\n",
    "features = [\n",
    "    'HomePlanet', 'CryoSleep', 'Destination', 'Age', 'VIP',\n",
    "    'RoomService', 'FoodCourt', 'ShoppingMall', 'Spa', 'VRDeck',\n",
    "    'CabinDeck', 'CabinSide'\n",
    "]\n",
    "\n",
    "# Split back to train and test\n",
    "X = full.loc[full['Transported'].notnull(), features]\n",
    "X_test = full.loc[full['Transported'].isnull(), features]\n",
    "\n",
    "# Train model\n",
    "model = XGBClassifier(n_estimators=300, max_depth=5, learning_rate=0.03, use_label_encoder=False, eval_metric='logloss', random_state=42)\n",
    "model.fit(X, y)\n",
    "\n",
    "# Predict\n",
    "test_preds = model.predict(X_test)\n",
    "test['Transported'] = test_preds.astype(bool)\n",
    "\n",
    "# Save submission\n",
    "test[['PassengerId', 'Transported']].to_csv('submission.csv', index=False)"
   ]
  }
 ],
 "metadata": {
  "kernelspec": {
   "display_name": "Python 3",
   "language": "python",
   "name": "python3"
  },
  "language_info": {
   "codemirror_mode": {
    "name": "ipython",
    "version": 3
   },
   "file_extension": ".py",
   "mimetype": "text/x-python",
   "name": "python",
   "nbconvert_exporter": "python",
   "pygments_lexer": "ipython3",
   "version": "3.12.7"
  }
 },
 "nbformat": 4,
 "nbformat_minor": 5
}
