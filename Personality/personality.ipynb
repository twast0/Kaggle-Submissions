{
 "cells": [
  {
   "cell_type": "code",
   "execution_count": 10,
   "id": "b0832a02",
   "metadata": {},
   "outputs": [],
   "source": [
    "import pandas as pd\n",
    "\n",
    "# Load the CSV file\n",
    "df = pd.read_csv('train.csv')\n",
    "\n",
    "# Assuming the target column is named 'personality'\n",
    "y = df['Personality']\n",
    "X = df.drop('Personality', axis=1)"
   ]
  },
  {
   "cell_type": "code",
   "execution_count": 11,
   "id": "8a1bd052",
   "metadata": {},
   "outputs": [
    {
     "name": "stdout",
     "output_type": "stream",
     "text": [
      "Null values in X:\n",
      "id                              0\n",
      "Time_spent_Alone             1190\n",
      "Stage_fear                   1893\n",
      "Social_event_attendance      1180\n",
      "Going_outside                1466\n",
      "Drained_after_socializing    1149\n",
      "Friends_circle_size          1054\n",
      "Post_frequency               1264\n",
      "dtype: int64\n",
      "\n",
      "Null values in y:\n",
      "0\n"
     ]
    }
   ],
   "source": [
    "# Check for null/empty values in X and y separately\n",
    "\n",
    "# For X (features)\n",
    "print(\"Null values in X:\")\n",
    "print(X.isnull().sum())\n",
    "\n",
    "# For y (target)\n",
    "print(\"\\nNull values in y:\")\n",
    "print(y.isnull().sum())"
   ]
  },
  {
   "cell_type": "code",
   "execution_count": 12,
   "id": "1ba95fd0",
   "metadata": {},
   "outputs": [],
   "source": [
    "# Convert 'Stage_fear' and 'Drained_after_socializing' from Yes/No to 1/0\n",
    "X['Stage_fear'] = X['Stage_fear'].map({'Yes': 1, 'No': 0})\n",
    "X['Drained_after_socializing'] = X['Drained_after_socializing'].map({'Yes': 1, 'No': 0})"
   ]
  },
  {
   "cell_type": "code",
   "execution_count": 13,
   "id": "7de58b6f",
   "metadata": {},
   "outputs": [],
   "source": [
    "from sklearn.impute import KNNImputer\n",
    "\n",
    "# Create the KNN imputer\n",
    "imputer = KNNImputer(n_neighbors=5)\n",
    "\n",
    "# Apply the imputer to X (excluding non-numeric columns)\n",
    "X_imputed = X.copy()\n",
    "numeric_cols = X_imputed.select_dtypes(include=['number']).columns\n",
    "X_imputed[numeric_cols] = imputer.fit_transform(X_imputed[numeric_cols])\n",
    "\n",
    "# X_imputed now has missing values filled"
   ]
  },
  {
   "cell_type": "code",
   "execution_count": 14,
   "id": "d00693b4",
   "metadata": {},
   "outputs": [],
   "source": [
    "X_imputed['Stage_fear'] = X_imputed['Stage_fear'].round().astype(int)\n",
    "X_imputed['Drained_after_socializing'] = X_imputed['Drained_after_socializing'].round().astype(int)"
   ]
  },
  {
   "cell_type": "code",
   "execution_count": 15,
   "id": "1be72998",
   "metadata": {},
   "outputs": [
    {
     "data": {
      "text/plain": [
       "id                           0\n",
       "Time_spent_Alone             0\n",
       "Stage_fear                   0\n",
       "Social_event_attendance      0\n",
       "Going_outside                0\n",
       "Drained_after_socializing    0\n",
       "Friends_circle_size          0\n",
       "Post_frequency               0\n",
       "dtype: int64"
      ]
     },
     "execution_count": 15,
     "metadata": {},
     "output_type": "execute_result"
    }
   ],
   "source": [
    "X_imputed.isnull().sum()  # Check if there are still any null values"
   ]
  },
  {
   "cell_type": "code",
   "execution_count": 17,
   "id": "d1476d41",
   "metadata": {},
   "outputs": [
    {
     "name": "stdout",
     "output_type": "stream",
     "text": [
      "Accuracy: 0.9713900134952766\n",
      "\n",
      "Classification Report:\n",
      "               precision    recall  f1-score   support\n",
      "\n",
      "   Extrovert       0.98      0.98      0.98      2740\n",
      "   Introvert       0.94      0.95      0.95       965\n",
      "\n",
      "    accuracy                           0.97      3705\n",
      "   macro avg       0.96      0.96      0.96      3705\n",
      "weighted avg       0.97      0.97      0.97      3705\n",
      "\n"
     ]
    }
   ],
   "source": [
    "from sklearn.ensemble import RandomForestClassifier\n",
    "from sklearn.model_selection import train_test_split\n",
    "from sklearn.metrics import classification_report, accuracy_score\n",
    "\n",
    "# Split the data into train and test sets\n",
    "X_train, X_test, y_train, y_test = train_test_split(\n",
    "    X_imputed, y, test_size=0.2, random_state=42, stratify=y\n",
    ")\n",
    "\n",
    "# Create and train the Random Forest model\n",
    "rf = RandomForestClassifier(n_estimators=100, random_state=42)\n",
    "rf.fit(X_train, y_train)\n",
    "\n",
    "# Predict on the test set\n",
    "y_pred = rf.predict(X_test)\n",
    "\n",
    "# Evaluate the model\n",
    "print(\"Accuracy:\", accuracy_score(y_test, y_pred))\n",
    "print(\"\\nClassification Report:\\n\", classification_report(y_test, y_pred))"
   ]
  },
  {
   "cell_type": "code",
   "execution_count": 18,
   "id": "f8856bff",
   "metadata": {},
   "outputs": [
    {
     "name": "stdout",
     "output_type": "stream",
     "text": [
      "         id Predicted_Personality\n",
      "0     18524             Extrovert\n",
      "1     18525             Introvert\n",
      "2     18526             Extrovert\n",
      "3     18527             Extrovert\n",
      "4     18528             Introvert\n",
      "...     ...                   ...\n",
      "6170  24694             Extrovert\n",
      "6171  24695             Introvert\n",
      "6172  24696             Extrovert\n",
      "6173  24697             Extrovert\n",
      "6174  24698             Introvert\n",
      "\n",
      "[6175 rows x 2 columns]\n"
     ]
    }
   ],
   "source": [
    "# Load the test data\n",
    "test_df = pd.read_csv('test.csv')\n",
    "\n",
    "# Prepare test features (assuming same columns as train, except no 'Personality')\n",
    "X_test = test_df.copy()\n",
    "\n",
    "# Convert 'Stage_fear' and 'Drained_after_socializing' from Yes/No to 1/0\n",
    "X_test['Stage_fear'] = X_test['Stage_fear'].map({'Yes': 1, 'No': 0})\n",
    "X_test['Drained_after_socializing'] = X_test['Drained_after_socializing'].map({'Yes': 1, 'No': 0})\n",
    "\n",
    "# Impute missing values using the same KNNImputer as for train\n",
    "X_test_imputed = X_test.copy()\n",
    "numeric_cols_test = X_test_imputed.select_dtypes(include=['number']).columns\n",
    "X_test_imputed[numeric_cols_test] = imputer.transform(X_test_imputed[numeric_cols_test])\n",
    "\n",
    "# Round binary columns to ensure they are 0/1\n",
    "X_test_imputed['Stage_fear'] = X_test_imputed['Stage_fear'].round().astype(int)\n",
    "X_test_imputed['Drained_after_socializing'] = X_test_imputed['Drained_after_socializing'].round().astype(int)\n",
    "\n",
    "# Predict Personality for test data\n",
    "test_predictions = rf.predict(X_test_imputed)\n",
    "\n",
    "# Add predictions to test_df\n",
    "test_df['Predicted_Personality'] = test_predictions\n",
    "\n",
    "# Show predictions\n",
    "print(test_df[['id', 'Predicted_Personality']])"
   ]
  },
  {
   "cell_type": "code",
   "execution_count": 19,
   "id": "7f38c0e1",
   "metadata": {},
   "outputs": [],
   "source": [
    "test_df[['id', 'Predicted_Personality']].to_csv('test_predictions.csv', index=False)"
   ]
  }
 ],
 "metadata": {
  "kernelspec": {
   "display_name": "Python 3",
   "language": "python",
   "name": "python3"
  },
  "language_info": {
   "codemirror_mode": {
    "name": "ipython",
    "version": 3
   },
   "file_extension": ".py",
   "mimetype": "text/x-python",
   "name": "python",
   "nbconvert_exporter": "python",
   "pygments_lexer": "ipython3",
   "version": "3.12.7"
  }
 },
 "nbformat": 4,
 "nbformat_minor": 5
}
